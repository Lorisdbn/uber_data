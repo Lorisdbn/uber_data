{
 "cells": [
  {
   "cell_type": "markdown",
   "id": "e3b64167-a561-47ba-9afa-a3cd6a9fea45",
   "metadata": {},
   "source": [
    "![Uber Overview](../pics/uber_overview.jpeg)"
   ]
  },
  {
   "cell_type": "markdown",
   "id": "cd1d9f41-9b8e-4b06-91b4-d630efc872bc",
   "metadata": {},
   "source": [
    "# Data exploration\n",
    "\n",
    "This notebook is dedicated to the exploratory data analysis from an open dataset including more than 150 000 rides done with the Uber app in  India in 2024.\n",
    "We will explore the data quality and we will try to get as many insights as possible through this data using relevant data visualization tools."
   ]
  },
  {
   "cell_type": "code",
   "execution_count": null,
   "id": "51c03308-00de-4d7c-8942-4eec1ed9e5b7",
   "metadata": {},
   "outputs": [],
   "source": [
    "import pandas as pd\n",
    "import numpy as np\n",
    "import seaborn as sns\n",
    "import matplotlib.pyplot as plt\n",
    "import calendar\n",
    "import plotly.express as px\n",
    "from plotly.subplots import make_subplots\n",
    "import plotly.graph_objects as go"
   ]
  },
  {
   "cell_type": "code",
   "execution_count": null,
   "id": "1ecf18a7-171f-4af0-923e-4cabb165531e",
   "metadata": {},
   "outputs": [],
   "source": [
    "# we extract the dataset thanks to pandas and start the exploration part\n",
    "\n",
    "df = pd.read_csv(\"../data/rides_data.csv\")\n",
    "df.head(5)"
   ]
  },
  {
   "cell_type": "code",
   "execution_count": null,
   "id": "cbf4f6ae-aa85-42b5-bb33-fb31c7010aac",
   "metadata": {},
   "outputs": [],
   "source": [
    "# getting an overview of the data \n",
    "\n",
    "print(df.shape, end =\"\\n\\n\")\n",
    "\n",
    "print(df.describe())"
   ]
  },
  {
   "cell_type": "code",
   "execution_count": null,
   "id": "eba9220c-d1dc-4f6c-b7e6-61086c98b837",
   "metadata": {},
   "outputs": [],
   "source": [
    "# we explore the types of each column's data\n",
    "\n",
    "print(df.dtypes, end=\"\\n\\n\")\n",
    "\n",
    "print(\"Out of the 21 columns we have 9 numerical columns and 12 categorical columns\")"
   ]
  },
  {
   "cell_type": "code",
   "execution_count": null,
   "id": "6dc4bd9f-8601-49b1-96dc-40a19e65f8f7",
   "metadata": {},
   "outputs": [],
   "source": [
    "print(df.value_counts(\"Cancelled Rides by Customer\"), end=\"\\n\\n\")\n",
    "print(df.value_counts(\"Reason for cancelling by Customer\"), end=\"\\n\\n\")\n",
    "print(df.value_counts(\"Driver Cancellation Reason\"), end=\"\\n\\n\")\n",
    "print(df.value_counts(\"Incomplete Rides Reason\"), end=\"\\n\\n\")\n",
    "print(df.value_counts(\"Payment Method\"), end=\"\\n\\n\")"
   ]
  },
  {
   "cell_type": "code",
   "execution_count": null,
   "id": "7d6ae872-0e28-40be-9b5b-5475ef12cbd4",
   "metadata": {},
   "outputs": [],
   "source": [
    "print(\"Booking status key statistics :\\n\")\n",
    "\n",
    "status_counts = df[\"Booking Status\"].value_counts().reset_index()\n",
    "status_counts.columns = [\"Booking Status\", \"count\"]\n",
    "status_counts[\"percentage\"] = (status_counts[\"count\"] / status_counts[\"count\"].sum() * 100).round(1)\n",
    "total_row = pd.DataFrame({\n",
    "    \"Booking Status\": [\"Total\"],\n",
    "    \"count\": [status_counts[\"count\"].sum()],\n",
    "    \"percentage\": [status_counts[\"percentage\"].sum()]})\n",
    "\n",
    "status_counts = pd.concat([status_counts, total_row], ignore_index=True)\n",
    "\n",
    "print(status_counts)"
   ]
  },
  {
   "cell_type": "code",
   "execution_count": null,
   "id": "b5438152-6a67-4226-a942-3d3c6e9ec204",
   "metadata": {},
   "outputs": [],
   "source": [
    "print(\"Vehicle type key statistics :\\n\")\n",
    "\n",
    "vehicle_summary = df.groupby(\"Vehicle Type\").agg(\n",
    "    Total_Bookings=(\"Booking ID\", \"count\"),\n",
    "    Success_Rate=(\"Booking Status\", lambda x: (x.eq(\"Completed\").mean() * 100).round(1)),\n",
    "    Avg_Distance=(\"Ride Distance\", \"mean\"),\n",
    "    Total_Distance=(\"Ride Distance\", \"sum\")\n",
    ").reset_index()\n",
    "\n",
    "# Mise en forme\n",
    "vehicle_summary[\"Avg_Distance\"] = vehicle_summary[\"Avg_Distance\"].round(2).astype(str) + \" km\"\n",
    "vehicle_summary[\"Total_Distance\"] = (vehicle_summary[\"Total_Distance\"] / 1000).round(0).astype(int).astype(str) + \"K km\"\n",
    "vehicle_summary[\"Success_Rate\"] = vehicle_summary[\"Success_Rate\"].astype(str) + \"%\"\n",
    "\n",
    "print(vehicle_summary)\n"
   ]
  },
  {
   "cell_type": "markdown",
   "id": "b455a5a1-cde6-44d3-9e3e-a0424ac2811d",
   "metadata": {},
   "source": [
    "# Preliminary dataviz"
   ]
  },
  {
   "cell_type": "code",
   "execution_count": null,
   "id": "d7b1434f-b4fd-485a-8c0e-913597747cfa",
   "metadata": {},
   "outputs": [],
   "source": [
    "\n",
    "# Créer une copie avec Success Rate en float\n",
    "vehicle_summary_plot = df.groupby(\"Vehicle Type\").agg(Total_Bookings=(\"Booking ID\", \"count\"),\n",
    "                                                      Success_Rate=(\"Booking Status\", lambda x: (x.eq(\"Completed\").mean() * 100).round(1))).reset_index()\n",
    "\n",
    "fig, ax1 = plt.subplots(figsize=(10,6))\n",
    "\n",
    "# Barplot pour Total Bookings\n",
    "sns.barplot(\n",
    "    data=vehicle_summary_plot,\n",
    "    x=\"Vehicle Type\", y=\"Total_Bookings\",\n",
    "    color=\"skyblue\", ax=ax1\n",
    ")\n",
    "ax1.set_ylabel(\"Booking #\", color=\"blue\")\n",
    "ax1.tick_params(axis=\"y\", labelcolor=\"blue\")\n",
    "\n",
    "# Axe secondaire pour le Success Rate\n",
    "ax2 = ax1.twinx()\n",
    "sns.lineplot(data=vehicle_summary_plot,x=\"Vehicle Type\", y=\"Success_Rate\",color=\"red\", marker=\"o\", linewidth=2, ax=ax2)\n",
    "ax2.set_ylabel(\"Success rate (%)\", color=\"red\")\n",
    "ax2.tick_params(axis=\"y\", labelcolor=\"red\")\n",
    "\n",
    "plt.title(\"Booking totals vs success rate per vehicle type\")\n",
    "plt.tight_layout()\n",
    "plt.show()\n",
    "\n",
    "print(\"\"\"\\nMost bookings come from Auto and Go vehicle types, but their success rates are only average, highlighting operational inefficiencies. \n",
    "Premium categories like UberXL and Premier Sedan have lower booking volumes but consistently higher success rates, \n",
    "suggesting they could be positioned as reliable, high-value options while efforts should focus on improving completion rates in high-demand categories.\"\"\")"
   ]
  },
  {
   "cell_type": "code",
   "execution_count": null,
   "id": "e68fef43-e503-49d6-8a1b-a38e1e6af916",
   "metadata": {},
   "outputs": [],
   "source": [
    "# Let's observe the monthly rides variations\n",
    "\n",
    "df[\"Date\"] = pd.to_datetime(df[\"Date\"])\n",
    "df[\"Month\"] = df[\"Date\"].dt.month\n",
    "month_names = [calendar.month_name[i] for i in range(1, 13)]\n",
    "df[\"Day\"] = df[\"Date\"].dt.day\n",
    "df[\"Weekday\"] = df[\"Date\"].dt.weekday\n",
    "day_names = [calendar.day_name[i] for i in range(7)]\n",
    "                            \n",
    "monthly_rides_count = df[\"Month\"].value_counts().sort_index()\n",
    "\n",
    "plt.bar(monthly_rides_count.sort_index().index, monthly_rides_count.sort_index().values, color=\"seagreen\", width =0.8)\n",
    "plt.xticks(ticks=monthly_rides_count.index, labels=month_names, rotation=45)\n",
    "\n",
    "plt.title(\"Number of rides per month\")\n",
    "plt.xlabel(\"Month\")\n",
    "plt.ylabel(\"Ride number\")\n",
    "plt.show()\n",
    "\n",
    "print(\"\\n\\n Monthly rides number are steady throughout the year \\n\\n\")\n"
   ]
  },
  {
   "cell_type": "code",
   "execution_count": null,
   "id": "4fdf5cde-3381-4575-9004-f2101499c0e5",
   "metadata": {},
   "outputs": [],
   "source": [
    "# Let's observe the dayly rides variations\n",
    "\n",
    "weekday_rides_count = df[\"Weekday\"].value_counts().sort_index()\n",
    "\n",
    "plt.bar(weekday_rides_count.sort_index().index, weekday_rides_count.sort_index().values, color=\"cornflowerblue\", width =0.8)\n",
    "plt.xticks(ticks=weekday_rides_count.index, labels=day_names, rotation=45)\n",
    "\n",
    "plt.title(\"Number of rides per weekday\")\n",
    "plt.xlabel(\"Day\")\n",
    "plt.ylabel(\"Ride number\")\n",
    "plt.show()\n",
    "\n",
    "print(\"\\n\\n Same conclusion as for the monthly rides with the weekdays \\n\\n\")"
   ]
  },
  {
   "cell_type": "code",
   "execution_count": null,
   "id": "aac4b582-724b-4f7f-9505-09435a2cc3e8",
   "metadata": {},
   "outputs": [],
   "source": [
    "# Let's observe the hourly rides variations\n",
    "\n",
    "\n",
    "df[\"Time\"] = pd.to_datetime(df[\"Time\"], format=\"%H:%M:%S\").dt.time\n",
    "df[\"Hour\"] = pd.to_datetime(df[\"Time\"], format=\"%H:%M:%S\").dt.hour\n",
    "\n",
    "\n",
    "hourly_rides_count = df[\"Hour\"].value_counts().sort_index()\n",
    "bars = plt.barh(hourly_rides_count.index, hourly_rides_count.values)\n",
    "\n",
    "plt.barh(hourly_rides_count.sort_index().index, hourly_rides_count.sort_index().values, color = \"yellowgreen\")\n",
    "plt.yticks(ticks=hourly_rides_count.index[::2], labels=hourly_rides_count.index[::2], rotation=45)\n",
    "plt.title(\"Number of rides per hour\")\n",
    "plt.xlabel(\"Ride number\")\n",
    "plt.ylabel(\"Hour\")\n",
    "plt.bar_label(bars, fmt=\"%d\", label_type = \"center\", color=\"black\")\n",
    "plt.show()\n",
    "\n",
    "print(\"\\n\\n We can observe significant variations on rides hours, with a first peak in the morning (10am) \\\n",
    "and a more significant activity between 4pm and 9pm. \\n We can also conclude that there is almost no rides between 12am and 5am\")\n"
   ]
  },
  {
   "cell_type": "code",
   "execution_count": null,
   "id": "8f11a93e-4bc0-4d71-9665-477fe54ee666",
   "metadata": {},
   "outputs": [],
   "source": [
    "# We want to know the completed rides shares\n",
    "\n",
    "bs_counts = df[\"Booking Status\"].value_counts()\n",
    "colors=[\"dodgerblue\", \"royalblue\", \"teal\", \"lightseagreen\", \"cyan\"]\n",
    "plt.pie(bs_counts.values, labels=bs_counts.index, autopct=\"%.0f%%\", colors = colors)\n",
    "\n",
    "plt.title(\"Number of rides per booking status\")\n",
    "plt.show()\n",
    "\n",
    "print(\"\\n\\n The main part of rides are completed while 25% of total rides are canceled\")"
   ]
  },
  {
   "cell_type": "code",
   "execution_count": null,
   "id": "93e5525b-6f8e-495c-8dad-599dd782a37c",
   "metadata": {},
   "outputs": [],
   "source": [
    "# Observation of the average time to arrive at trip distribution\n",
    "\n",
    "plt.hist(df[\"Avg VTAT\"], bins=30, color=\"skyblue\", edgecolor=\"black\")\n",
    "plt.xlabel(\"Average VTAT (minutes)\")\n",
    "plt.ylabel(\"Number of rides\")\n",
    "plt.title(\"Distribution of average VTAT\")\n",
    "plt.show()\n",
    "\n",
    "print(\"\\n\\n This distribution, not normal, seems coherent : a lot of trips are started immediatly since the driver is near the customer and we can observe \\\n",
    "a few rides that started more than 15 minutes after the customer ordered a trip on the app\")"
   ]
  },
  {
   "cell_type": "code",
   "execution_count": null,
   "id": "f8e46cde-b4e8-4e73-ae46-27641a5dc546",
   "metadata": {},
   "outputs": [],
   "source": [
    "# Let's have a look at the average waiting time for the driver  once the ride has been booked\n",
    "\n",
    "fig=px.box(df[\"Avg CTAT\"])\n",
    "fig.show()\n",
    "\n",
    "print(\"\\n\\n The median time for a customer to arrive to pick up location is almost 29 minutes. Obviously, it seems that this data might include \\\n",
    "reservations made in advance since this waiting time isn't reasonable. We may not use this data later in our analysis\")"
   ]
  },
  {
   "cell_type": "code",
   "execution_count": null,
   "id": "b163c49c-92e8-4212-a366-a4ddf93bf46d",
   "metadata": {},
   "outputs": [],
   "source": [
    "# Let's have a look at the cancellation reasons\n",
    "\n",
    "cust_cancel_values = df[\"Reason for cancelling by Customer\"].value_counts()\n",
    "fig = px.pie(names = cust_cancel_values.index , values = cust_cancel_values.values, title = \"Reasons for cancelling by customer\")\n",
    "fig.show()\n",
    "print(\"\\n\\n The reasons for customer cancellations are diverse and mainly due to personal or situational reasons\\n\")\n",
    "\n",
    "driver_cancel_values = df[\"Driver Cancellation Reason\"].value_counts()\n",
    "fig = px.pie(names = driver_cancel_values.index , values = driver_cancel_values.values, title = \"Reasons for cancelling by driver\")\n",
    "fig.show()\n",
    "print(\"\\n\\n The reasons for drivers cancellations are more related to rules and operational constraints\\n\")"
   ]
  },
  {
   "cell_type": "code",
   "execution_count": null,
   "id": "a3ee9f2e-d0ff-4b79-abbd-7e1d84f24ca5",
   "metadata": {},
   "outputs": [],
   "source": [
    "# Let's try to understand if there is a correlation between ride value and ride distance\n",
    "\n",
    "sns.scatterplot(data = df, x= \"Ride Distance\", y=\"Booking Value\")\n",
    "plt.xlabel(\"Distance (km)\")\n",
    "plt.ylabel(\"Booking value (INR)\")\n",
    "plt.title(\"Booking value vs ride distance\")\n",
    "plt.show()\n",
    "\n",
    "print(df[[\"Ride Distance\", \"Booking Value\"]].corr())\n",
    "\n",
    "print(\"\\n\\n Surprisingly, there is almost no correlation between ride distance et ride price\")"
   ]
  },
  {
   "cell_type": "code",
   "execution_count": null,
   "id": "d25d1881-5f5c-45e5-932e-d600a6d5c3ad",
   "metadata": {},
   "outputs": [],
   "source": [
    "# We observe the distribution of ride distance values\n",
    "\n",
    "hist = px.histogram(df, x=\"Ride Distance\", nbins=15, text_auto=True)\n",
    "\n",
    "box = px.box(df, y=\"Ride Distance\")\n",
    "\n",
    "fig = make_subplots(rows=1, cols=2, \n",
    "                    subplot_titles=(\"Ride distance\", \"Boxplot of ride distance\"))\n",
    "for trace in hist.data:\n",
    "    fig.add_trace(trace, row=1, col=1)\n",
    "for trace in box.data:\n",
    "    fig.add_trace(trace, row=1, col=2)\n",
    "\n",
    "fig.update_layout(\n",
    "    bargap=0.2,\n",
    "    xaxis_title=\"Distance\",\n",
    "    yaxis_title=\"Number of rides\",\n",
    "    showlegend=False)\n",
    "\n",
    "fig.show()\n",
    "\n",
    "print(\"\\n\\n The most popular ride distances are between 2.5 and 17.5 km, the median distance , less than 24 km / ride\")\n"
   ]
  },
  {
   "cell_type": "code",
   "execution_count": null,
   "id": "7d597eb9-d014-42d3-80bf-e8993037a8f4",
   "metadata": {},
   "outputs": [],
   "source": [
    "# We observe the distribution of booking values\n",
    "\n",
    "hist = px.histogram(df, x=\"Booking Value\", nbins=20, text_auto=True, color_discrete_sequence =[\"forestgreen\"])\n",
    "\n",
    "box = px.box(df, y=\"Booking Value\",color_discrete_sequence =[\"darkgreen\"])\n",
    "\n",
    "fig = make_subplots(rows=1, cols=2, \n",
    "                    subplot_titles=(\"Booking Value\", \"Boxplot of booking value\"))\n",
    "for trace in hist.data:\n",
    "    fig.add_trace(trace, row=1, col=1)\n",
    "for trace in box.data:\n",
    "    fig.add_trace(trace, row=1, col=2)\n",
    "\n",
    "fig.update_layout(\n",
    "    bargap=0.2,\n",
    "    xaxis_title=\"Booking value\",\n",
    "    yaxis_title=\"Number of rides\",\n",
    "    showlegend=False)\n",
    "\n",
    "fig.show()\n",
    "\n",
    "print(\"\\n\\n The median booking value is 414 INR (~5 USD); most rides are cost less than 1,000 INR (11 USD). However, we can observe a long tail \\\n",
    "of extreme values betwwen 1500 and 4000 INR. Since there are a lot of high values and that the highest is less than 50 USD \\\n",
    ", we will not consider them as outliers\")"
   ]
  },
  {
   "cell_type": "markdown",
   "id": "1bedabee-44a8-4b97-881e-1e11dcfe423f",
   "metadata": {},
   "source": [
    "# Data cleaning"
   ]
  },
  {
   "cell_type": "code",
   "execution_count": null,
   "id": "59a17d0d-a26f-4721-b6e0-e5414d5a5fbc",
   "metadata": {},
   "outputs": [],
   "source": [
    "print(df.columns.tolist())"
   ]
  },
  {
   "cell_type": "code",
   "execution_count": null,
   "id": "9d32a853-f3d0-455a-87ee-0c96f75a56a0",
   "metadata": {},
   "outputs": [],
   "source": [
    "# Keeping only the useful columns for our analysis\n",
    "\n",
    "useful_columns=['Month', \n",
    "                'Day', \n",
    "                'Weekday', \n",
    "                'Hour', \n",
    "                'Booking ID', \n",
    "                'Booking Status', \n",
    "                'Customer ID', \n",
    "                'Vehicle Type', \n",
    "                'Pickup Location', \n",
    "                'Drop Location', \n",
    "                'Avg VTAT',\n",
    "                'Reason for cancelling by Customer',\n",
    "                'Driver Cancellation Reason',\n",
    "                'Incomplete Rides Reason', \n",
    "                'Booking Value', \n",
    "                'Ride Distance', \n",
    "                'Driver Ratings', \n",
    "                'Customer Rating', \n",
    "                'Payment Method']\n",
    "\n",
    "df=df[useful_columns]\n",
    "\n",
    "print(df.dtypes)\n",
    "                "
   ]
  },
  {
   "cell_type": "code",
   "execution_count": null,
   "id": "28e2e15b-e1e5-43b7-9524-4a5fa51e85fe",
   "metadata": {},
   "outputs": [],
   "source": [
    "# Renaming the columns to replace spaces and avoid syntax errors later\n",
    "\n",
    "df = df.rename(columns={\n",
    "    \"Month\": \"month\",\n",
    "    \"Day\": \"day\",\n",
    "    \"Weekday\": \"weekday\",\n",
    "    \"Hour\": \"hour\",\n",
    "    \"Booking ID\": \"booking_id\",\n",
    "    \"Booking Status\": \"booking_status\",\n",
    "    \"Customer ID\": \"customer_id\",\n",
    "    \"Vehicle Type\": \"vehicle_type\",\n",
    "    \"Pickup Location\": \"pickup_location\",\n",
    "    \"Drop Location\": \"drop_location\",\n",
    "    \"Avg VTAT\": \"avg_vtat\",\n",
    "    \"Reason for cancelling by Customer\": \"reason_for_cancelling_by_customer\",\n",
    "    \"Driver Cancellation Reason\": \"driver_cancellation_reason\",\n",
    "    \"Incomplete Rides Reason\": \"incomplete_rides_reason\",\n",
    "    \"Booking Value\": \"booking_value\",\n",
    "    \"Ride Distance\": \"ride_distance\",\n",
    "    \"Driver Ratings\": \"driver_rating\",\n",
    "    \"Customer Rating\": \"customer_rating\",\n",
    "    \"Payment Method\": \"payment_method\"\n",
    "})\n",
    "\n",
    "print(\"Data type per column :\\n\\n\", df.dtypes)\n",
    "\n"
   ]
  },
  {
   "cell_type": "code",
   "execution_count": null,
   "id": "5f9a9431-211e-48a7-8880-30c11e81f8da",
   "metadata": {},
   "outputs": [],
   "source": [
    "#Identification of missing value number and rates per column\n",
    "\n",
    "print(\"Number of missing values per column :\\n\\n\", df.isna().sum(), \"\\n\\n\")\n",
    "\n",
    "print(\"Percentage of missing values per column :\\n\\n\", df.isna().mean()*100)"
   ]
  },
  {
   "cell_type": "code",
   "execution_count": null,
   "id": "10f826df-2afd-4ace-b301-4dacd2e2f13b",
   "metadata": {},
   "outputs": [],
   "source": [
    "# Replace the NaN values - by 0 or -1 for numerical variables\n",
    "\n",
    "df[\"avg_vtat\"] = df[\"avg_vtat\"].fillna(0)\n",
    "df[\"booking_value\"] = df[\"booking_value\"].fillna(0)\n",
    "df[\"ride_distance\"] = df[\"ride_distance\"].fillna(0)\n",
    "df[\"driver_rating\"] = df[\"driver_rating\"].fillna(-1)\n",
    "df[\"customer_rating\"] = df[\"customer_rating\"].fillna(-1)\n",
    "df[\"payment_method\"] = df[\"payment_method\"].fillna(\"No payment\")\n",
    "\n",
    "print(\"Number of missing values per column :\\n\\n\",df.isna().sum(), \"\\n\\n Now we have a cleaner dataset with no missing values \\\n",
    "except for 3 columns where we should have missing values in case the rides have been completed\")"
   ]
  },
  {
   "cell_type": "code",
   "execution_count": null,
   "id": "a4e2666c-8b1c-4cab-99c2-51ed4be9bf35",
   "metadata": {},
   "outputs": [],
   "source": [
    "print(\"# of duplicated values : \", df.duplicated().sum())\n",
    "\n",
    "print(\"\\nWe don't have any duplicated entries in this dataset\")"
   ]
  },
  {
   "cell_type": "code",
   "execution_count": null,
   "id": "de8629aa-f2c0-4281-84ee-e0cd68243325",
   "metadata": {},
   "outputs": [],
   "source": [
    "df.set_index(\"booking_id\")"
   ]
  },
  {
   "cell_type": "code",
   "execution_count": null,
   "id": "6931a3d5-0a9a-4b12-a7f9-808d96773d5b",
   "metadata": {},
   "outputs": [],
   "source": [
    "df.to_csv(\"../data/rides_data_clean.csv\", index= True)\n"
   ]
  }
 ],
 "metadata": {
  "kernelspec": {
   "display_name": "Python [conda env:base] *",
   "language": "python",
   "name": "conda-base-py"
  },
  "language_info": {
   "codemirror_mode": {
    "name": "ipython",
    "version": 3
   },
   "file_extension": ".py",
   "mimetype": "text/x-python",
   "name": "python",
   "nbconvert_exporter": "python",
   "pygments_lexer": "ipython3",
   "version": "3.12.7"
  }
 },
 "nbformat": 4,
 "nbformat_minor": 5
}
