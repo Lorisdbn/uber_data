{
 "cells": [
  {
   "cell_type": "code",
   "execution_count": 1,
   "id": "46efa9ff-9169-4b10-bea8-aed4ef8fab84",
   "metadata": {},
   "outputs": [
    {
     "name": "stdout",
     "output_type": "stream",
     "text": [
      "Note: you may need to restart the kernel to use updated packages.\n"
     ]
    }
   ],
   "source": [
    "# install duckdb engine, well suited for our datascience project\n",
    "%pip install duckdb-engine --quiet"
   ]
  },
  {
   "cell_type": "code",
   "execution_count": 9,
   "id": "38ed75f9-2bbb-44b5-9156-48549b797099",
   "metadata": {},
   "outputs": [
    {
     "name": "stdout",
     "output_type": "stream",
     "text": [
      "The sql extension is already loaded. To reload it, use:\n",
      "  %reload_ext sql\n"
     ]
    }
   ],
   "source": [
    "# downloading sql extension for jupyter notebook, connect to duck db engine and defining the data path\n",
    "\n",
    "from pathlib import Path\n",
    "\n",
    "%load_ext sql\n",
    "%sql duckdb:///:memory:\n",
    "%config SqlMagic.named_parameters = True\n",
    "\n",
    "project_root = Path(r\"C:\\Users\\loris\\Desktop\\uber_data\")\n",
    "data_path = (project_root / \"data\" / \"rides_data.csv\").as_posix() \n"
   ]
  },
  {
   "cell_type": "code",
   "execution_count": 10,
   "id": "78a315ec-9886-471f-b898-a69263e907af",
   "metadata": {},
   "outputs": [
    {
     "data": {
      "text/html": [
       "<span style=\"None\">Running query in &#x27;duckdb:///:memory:&#x27;</span>"
      ],
      "text/plain": [
       "Running query in 'duckdb:///:memory:'"
      ]
     },
     "metadata": {},
     "output_type": "display_data"
    },
    {
     "data": {
      "text/html": [
       "<table>\n",
       "    <thead>\n",
       "        <tr>\n",
       "            <th>Success</th>\n",
       "        </tr>\n",
       "    </thead>\n",
       "    <tbody>\n",
       "    </tbody>\n",
       "</table>"
      ],
      "text/plain": [
       "+---------+\n",
       "| Success |\n",
       "+---------+\n",
       "+---------+"
      ]
     },
     "execution_count": 10,
     "metadata": {},
     "output_type": "execute_result"
    }
   ],
   "source": [
    "%%sql\n",
    "ROLLBACK;"
   ]
  },
  {
   "cell_type": "code",
   "execution_count": 11,
   "id": "246c4d2e-a054-47dc-9bc3-fbdebc1dd971",
   "metadata": {},
   "outputs": [
    {
     "data": {
      "text/html": [
       "<span style=\"None\">Running query in &#x27;duckdb:///:memory:&#x27;</span>"
      ],
      "text/plain": [
       "Running query in 'duckdb:///:memory:'"
      ]
     },
     "metadata": {},
     "output_type": "display_data"
    },
    {
     "data": {
      "text/html": [
       "<table>\n",
       "    <thead>\n",
       "        <tr>\n",
       "            <th>n</th>\n",
       "        </tr>\n",
       "    </thead>\n",
       "    <tbody>\n",
       "        <tr>\n",
       "            <td>150000</td>\n",
       "        </tr>\n",
       "    </tbody>\n",
       "</table>"
      ],
      "text/plain": [
       "+--------+\n",
       "|   n    |\n",
       "+--------+\n",
       "| 150000 |\n",
       "+--------+"
      ]
     },
     "execution_count": 11,
     "metadata": {},
     "output_type": "execute_result"
    }
   ],
   "source": [
    "%%sql\n",
    "SELECT COUNT(*) AS n\n",
    "FROM read_csv_auto(:data_path);\n"
   ]
  }
 ],
 "metadata": {
  "kernelspec": {
   "display_name": "Python [conda env:sql-notebook]",
   "language": "python",
   "name": "conda-env-sql-notebook-py"
  },
  "language_info": {
   "codemirror_mode": {
    "name": "ipython",
    "version": 3
   },
   "file_extension": ".py",
   "mimetype": "text/x-python",
   "name": "python",
   "nbconvert_exporter": "python",
   "pygments_lexer": "ipython3",
   "version": "3.13.5"
  }
 },
 "nbformat": 4,
 "nbformat_minor": 5
}
